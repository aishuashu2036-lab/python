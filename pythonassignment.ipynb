{
  "nbformat": 4,
  "nbformat_minor": 0,
  "metadata": {
    "colab": {
      "provenance": []
    },
    "kernelspec": {
      "name": "python3",
      "display_name": "Python 3"
    },
    "language_info": {
      "name": "python"
    }
  },
  "cells": [
    {
      "cell_type": "markdown",
      "source": [
        " Python Basic Questions\n",
        "\n",
        ""
      ],
      "metadata": {
        "id": "Wy4U8xYLXxfi"
      }
    },
    {
      "cell_type": "markdown",
      "source": [
        "1.  What is Python, and why is it popular?\n",
        "  - Python is a programming language, and it is popular because python is wiedly used in the industries,it has lots of libraries and easy to learn.\n",
        "2. What is an interpreter in Python?\n",
        "  - In python interpreter is the program that executes the python code line by line.\n",
        "3.  What are pre-defined keywords in Python?\n",
        " - pre-defined words are the special words in python having perticular meanings.\n",
        "4. Can keywords be used as variable names?\n",
        "  - No, we cannot use keywords as variable names.\n",
        "5. What is mutability in Python?\n",
        " - Mutability means, object whose state or value can be changed after creating it.\n",
        "6. Why are lists mutable, but tuples are immutable?\n",
        " - Lists are mutabile because we can change their elements,\n",
        "   but tuples are immutable because we cannot change their elements.\n",
        "7.  What is the difference between “==” and “is” operators in Python?\n",
        " - In python\n",
        "  \"==\" compares the values.\n",
        "  \"is\" compares the memory location / identity.\n",
        "8.  What are logical operators in Python?\n",
        " - Logical operatore in python are\n",
        "   \"and\"\n",
        "   \"or\"\n",
        "   \"not\".\n",
        "9. What is type casting in Python?\n",
        " - Type casting defined as the process of changing or converting the data type of a value/object.\n",
        "10. What is the difference between implicit and explicit type casting?\n",
        " - Implicit type casting means done by python itsefl\n",
        "   Explicit type casting means done by the programmer.\n",
        "11. What is the purpose of conditional statements in Python?\n",
        " - The purpose of conditional statements in python is used to execute certain codes only when a applied specific condition is ture.\n",
        "12.  How does the elif statement work?\n",
        " - Elif statement is used to test more than one condition when if alone is not enough.\n",
        "13. What is the difference between for and while loops?\n",
        " - The difference between for and while loop are\n",
        "   .for loop repeats a block for a fixed range,\n",
        "   .while loop repeats until a condition is false.\n",
        "14. Describe a scenario where a while loop is more suitable than a for loop.\n",
        " - While loop is more suitable when we don't know how many times to repeat, like \" keep working hard until i get success\".\n",
        ""
      ],
      "metadata": {
        "id": "wFVRavczYfWX"
      }
    },
    {
      "cell_type": "markdown",
      "source": [
        "Practicle Questions\n"
      ],
      "metadata": {
        "id": "eiSeNMdMxuix"
      }
    },
    {
      "cell_type": "code",
      "source": [
        "'''01. Write a Python program to print \"Hello, World!'''\n",
        "\n",
        "print(\"Helloow, World!!\")"
      ],
      "metadata": {
        "colab": {
          "base_uri": "https://localhost:8080/"
        },
        "id": "QVzLIwlnyBeo",
        "outputId": "1cbe9ee7-50ab-4727-f80c-cfcf5381eeb2"
      },
      "execution_count": 1,
      "outputs": [
        {
          "output_type": "stream",
          "name": "stdout",
          "text": [
            "Helloow, World!!\n"
          ]
        }
      ]
    },
    {
      "cell_type": "code",
      "source": [
        "'''02. Write a Python program that displays your name and age'''\n",
        "\n",
        "name = \"Ashwini\"\n",
        "age = 18\n",
        "print(\"My name is\", name)\n",
        "print(\"My age is\", age)"
      ],
      "metadata": {
        "colab": {
          "base_uri": "https://localhost:8080/"
        },
        "id": "g1NRD94GyYgX",
        "outputId": "63e7fdd7-4be5-45a4-9e32-851a3660f25b"
      },
      "execution_count": 2,
      "outputs": [
        {
          "output_type": "stream",
          "name": "stdout",
          "text": [
            "My name is Ashwini\n",
            "My age is 18\n"
          ]
        }
      ]
    },
    {
      "cell_type": "code",
      "source": [
        "'''03.Write code to print all the pre-defined keywords in Python using the keyword library'''\n",
        "\n",
        "import keyword\n",
        "print(\"python keywords are\")\n",
        "print(keyword.kwlist)"
      ],
      "metadata": {
        "colab": {
          "base_uri": "https://localhost:8080/"
        },
        "id": "rnleREWaznIB",
        "outputId": "9820ece5-d45a-411e-a42e-61e20fdf084b"
      },
      "execution_count": 5,
      "outputs": [
        {
          "output_type": "stream",
          "name": "stdout",
          "text": [
            "python keywords are\n",
            "['False', 'None', 'True', 'and', 'as', 'assert', 'async', 'await', 'break', 'class', 'continue', 'def', 'del', 'elif', 'else', 'except', 'finally', 'for', 'from', 'global', 'if', 'import', 'in', 'is', 'lambda', 'nonlocal', 'not', 'or', 'pass', 'raise', 'return', 'try', 'while', 'with', 'yield']\n"
          ]
        }
      ]
    },
    {
      "cell_type": "code",
      "source": [
        "'''04.Write a program that checks if a given word is a Python keyword.'''\n",
        "\n",
        "to be honest i don't know answer for this question"
      ],
      "metadata": {
        "id": "YvxXhFCa0V5S"
      },
      "execution_count": null,
      "outputs": []
    },
    {
      "cell_type": "code",
      "source": [
        "'''05.Create a list and tuple in Python, and demonstrate how attempting to change an element works differently\n",
        "for each.'''\n",
        "\n",
        "my_list = [1, 2, 3, 4, 5, \"Ashwini\", 6, 7, \"pwskills\"]\n",
        "my_list[0]=20\n",
        "print(my_list)\n"
      ],
      "metadata": {
        "colab": {
          "base_uri": "https://localhost:8080/"
        },
        "id": "zvHs84r41ZEW",
        "outputId": "daa9b4a3-9569-454a-f867-1ca1e1a365a4"
      },
      "execution_count": 6,
      "outputs": [
        {
          "output_type": "stream",
          "name": "stdout",
          "text": [
            "[20, 2, 3, 4, 5, 'Ashwini', 6, 7, 'pwskills']\n"
          ]
        }
      ]
    },
    {
      "cell_type": "code",
      "source": [
        "my_tuple = (1, 2, 3, 4, 5, \"Ashwini\", 6, 7, \"pwskills\")\n",
        "my_tuple[0]=20\n",
        "print(my_tuple)"
      ],
      "metadata": {
        "colab": {
          "base_uri": "https://localhost:8080/",
          "height": 176
        },
        "id": "__Nnteb427tt",
        "outputId": "32b94e9d-ccc4-43d1-800e-2954c651906a"
      },
      "execution_count": 7,
      "outputs": [
        {
          "output_type": "error",
          "ename": "TypeError",
          "evalue": "'tuple' object does not support item assignment",
          "traceback": [
            "\u001b[0;31m---------------------------------------------------------------------------\u001b[0m",
            "\u001b[0;31mTypeError\u001b[0m                                 Traceback (most recent call last)",
            "\u001b[0;32m/tmp/ipython-input-1532067924.py\u001b[0m in \u001b[0;36m<cell line: 0>\u001b[0;34m()\u001b[0m\n\u001b[1;32m      1\u001b[0m \u001b[0mmy_tuple\u001b[0m \u001b[0;34m=\u001b[0m \u001b[0;34m(\u001b[0m\u001b[0;36m1\u001b[0m\u001b[0;34m,\u001b[0m \u001b[0;36m2\u001b[0m\u001b[0;34m,\u001b[0m \u001b[0;36m3\u001b[0m\u001b[0;34m,\u001b[0m \u001b[0;36m4\u001b[0m\u001b[0;34m,\u001b[0m \u001b[0;36m5\u001b[0m\u001b[0;34m,\u001b[0m \u001b[0;34m\"Ashwini\"\u001b[0m\u001b[0;34m,\u001b[0m \u001b[0;36m6\u001b[0m\u001b[0;34m,\u001b[0m \u001b[0;36m7\u001b[0m\u001b[0;34m,\u001b[0m \u001b[0;34m\"pwskills\"\u001b[0m\u001b[0;34m)\u001b[0m\u001b[0;34m\u001b[0m\u001b[0;34m\u001b[0m\u001b[0m\n\u001b[0;32m----> 2\u001b[0;31m \u001b[0mmy_tuple\u001b[0m\u001b[0;34m[\u001b[0m\u001b[0;36m0\u001b[0m\u001b[0;34m]\u001b[0m\u001b[0;34m=\u001b[0m\u001b[0;36m20\u001b[0m\u001b[0;34m\u001b[0m\u001b[0;34m\u001b[0m\u001b[0m\n\u001b[0m\u001b[1;32m      3\u001b[0m \u001b[0mprint\u001b[0m\u001b[0;34m(\u001b[0m\u001b[0mmy_tuple\u001b[0m\u001b[0;34m)\u001b[0m\u001b[0;34m\u001b[0m\u001b[0;34m\u001b[0m\u001b[0m\n",
            "\u001b[0;31mTypeError\u001b[0m: 'tuple' object does not support item assignment"
          ]
        }
      ]
    },
    {
      "cell_type": "code",
      "source": [
        "'''06. Write a function to demonstrate the behavior of mutable and immutable arguments.'''\n",
        "\n",
        "Answer don't no"
      ],
      "metadata": {
        "id": "oIIBHEbv3c1k"
      },
      "execution_count": null,
      "outputs": []
    },
    {
      "cell_type": "code",
      "source": [
        "'''07.. Write a program that performs basic arithmetic operations on two user-input numbers.'''\n",
        "\n",
        "num1 = int(input(\"enter your first number\"))\n",
        "num2 = int(input(\"enter your second numer\"))\n",
        "print(\"addition:\", num1 + num2)\n",
        "print(\"subtraction:\", num1 - num2)\n",
        "print(\"multiplication:\", num1 * num2)\n",
        "print(\"devision:\", num1 // num2)"
      ],
      "metadata": {
        "colab": {
          "base_uri": "https://localhost:8080/"
        },
        "id": "ZP7EAVel375h",
        "outputId": "52a02859-40ed-4988-8bac-c2c1b199fdb0"
      },
      "execution_count": 8,
      "outputs": [
        {
          "output_type": "stream",
          "name": "stdout",
          "text": [
            "enter your first number10\n",
            "enter your second numer5\n",
            "addition: 15\n",
            "subtraction: 5\n",
            "multiplication: 50\n",
            "devision: 2\n"
          ]
        }
      ]
    },
    {
      "cell_type": "code",
      "source": [
        "'''08.Write a program to demonstrate the use of logical operators.'''\n",
        "\n",
        "x = True\n",
        "y = False\n",
        "print(\"x and y\", x and y)\n",
        "print(\"x or y\", x or y)\n",
        "print(\"not x\", not x)"
      ],
      "metadata": {
        "colab": {
          "base_uri": "https://localhost:8080/"
        },
        "id": "8aQNiJ4M5Vex",
        "outputId": "c84fabde-bcdc-43a5-ad0a-dbbf8321e4d4"
      },
      "execution_count": 10,
      "outputs": [
        {
          "output_type": "stream",
          "name": "stdout",
          "text": [
            "x and y False\n",
            "x or y True\n",
            "not x False\n"
          ]
        }
      ]
    },
    {
      "cell_type": "code",
      "source": [
        "'''09. 9. Write a Python program to convert user input from string to integer, float, and boolean types.'''\n",
        "\n",
        "a = input(\"enter something\")\n",
        "print(\"integer\", int(a))\n",
        "print(\"float\", float(a))\n",
        "print(\"boolean\", bool(a))"
      ],
      "metadata": {
        "colab": {
          "base_uri": "https://localhost:8080/"
        },
        "id": "0P3b08rJ6XKJ",
        "outputId": "04e25f15-017a-4521-db20-9d9abad8ee0c"
      },
      "execution_count": 11,
      "outputs": [
        {
          "output_type": "stream",
          "name": "stdout",
          "text": [
            "enter something88\n",
            "integer 88\n",
            "float 88.0\n",
            "boolean True\n"
          ]
        }
      ]
    },
    {
      "cell_type": "code",
      "source": [
        "'''10.Write code to demonstrate type casting with list elements.'''\n",
        "\n",
        "my_list = [\"1\", \"2\", \"3\", \"4\", \"5\"]\n",
        "my_list = [int(x) for x in my_list]\n",
        "print(my_list)\n",
        "\n",
        "\n"
      ],
      "metadata": {
        "colab": {
          "base_uri": "https://localhost:8080/"
        },
        "id": "HfP6DP_37hUR",
        "outputId": "957c44a3-136f-4fe2-cea4-e69a405beb1a"
      },
      "execution_count": 13,
      "outputs": [
        {
          "output_type": "stream",
          "name": "stdout",
          "text": [
            "[1, 2, 3, 4, 5]\n"
          ]
        }
      ]
    },
    {
      "cell_type": "code",
      "source": [
        "'''11. Write a program that checks if a number is positive, negative, or zero.'''\n",
        "num = int(input(\"ENter a number\"))\n",
        "if num >0:\n",
        "  print(\" The number is positive\")\n",
        "elif num < 0:\n",
        "  print(\"The number is negative\")\n",
        "else:\n",
        "  print(\"The number is zero\")"
      ],
      "metadata": {
        "colab": {
          "base_uri": "https://localhost:8080/"
        },
        "id": "aypCIEXY9tbq",
        "outputId": "c7612c4b-8346-4dde-adcf-77d4a1b292e8"
      },
      "execution_count": 15,
      "outputs": [
        {
          "output_type": "stream",
          "name": "stdout",
          "text": [
            "ENter a number5\n",
            " The number is positive\n"
          ]
        }
      ]
    },
    {
      "cell_type": "code",
      "source": [
        "num = int(input(\"ENter a number\"))\n",
        "if num >0:\n",
        "  print(\" The number is positive\")\n",
        "elif num < 0:\n",
        "  print(\"The number is negative\")\n",
        "else:\n",
        "  print(\"The number is zero\")"
      ],
      "metadata": {
        "colab": {
          "base_uri": "https://localhost:8080/"
        },
        "id": "J949T2HA_Ez9",
        "outputId": "ef718203-759b-45aa-f436-65d8a146f743"
      },
      "execution_count": 16,
      "outputs": [
        {
          "output_type": "stream",
          "name": "stdout",
          "text": [
            "ENter a number-5\n",
            "The number is negative\n"
          ]
        }
      ]
    },
    {
      "cell_type": "code",
      "source": [
        "num = int(input(\"ENter a number\"))\n",
        "if num >0:\n",
        "  print(\" The number is positive\")\n",
        "elif num < 0:\n",
        "  print(\"The number is negative\")\n",
        "else:\n",
        "  print(\"The number is zero\")"
      ],
      "metadata": {
        "colab": {
          "base_uri": "https://localhost:8080/"
        },
        "id": "uuwp4ElE_MrV",
        "outputId": "9a3ed67f-5783-46be-a399-75ae986efeb6"
      },
      "execution_count": 17,
      "outputs": [
        {
          "output_type": "stream",
          "name": "stdout",
          "text": [
            "ENter a number0\n",
            "The number is zero\n"
          ]
        }
      ]
    },
    {
      "cell_type": "code",
      "source": [
        "'''12. Write a for loop to print numbers from 1 to 10.'''\n",
        "\n",
        "for i in range(10):\n",
        "  print(i)"
      ],
      "metadata": {
        "colab": {
          "base_uri": "https://localhost:8080/"
        },
        "id": "JLoFxZAp_PNP",
        "outputId": "e8030ec3-0189-4503-d4f5-24bd466f7a0d"
      },
      "execution_count": 21,
      "outputs": [
        {
          "output_type": "stream",
          "name": "stdout",
          "text": [
            "0\n",
            "1\n",
            "2\n",
            "3\n",
            "4\n",
            "5\n",
            "6\n",
            "7\n",
            "8\n",
            "9\n"
          ]
        }
      ]
    },
    {
      "cell_type": "code",
      "source": [
        "'''13. Write a Python program to find the sum of all even numbers between 1 and 50.'''\n",
        "\n",
        "print(\"sum of all even numbers from 1 to 50 is\", sum(range(2, 51, 2)))"
      ],
      "metadata": {
        "colab": {
          "base_uri": "https://localhost:8080/"
        },
        "id": "9qvtdv4c_pdS",
        "outputId": "057e58b9-3e4f-430d-991e-9778096a52de"
      },
      "execution_count": 22,
      "outputs": [
        {
          "output_type": "stream",
          "name": "stdout",
          "text": [
            "sum of all even numbers from 1 to 50 is 650\n"
          ]
        }
      ]
    },
    {
      "cell_type": "code",
      "source": [
        "'''14. Write a program to reverse a string using a while loop.'''\n",
        "\n",
        "s = \"python\"\n",
        "rev = \"\"\n",
        "i = len(s) - 1\n",
        "\n",
        "while i >= 0:\n",
        "  rev += s[i]\n",
        "  i -= 1\n",
        "\n",
        "print(rev)"
      ],
      "metadata": {
        "colab": {
          "base_uri": "https://localhost:8080/"
        },
        "id": "oOFtKBG5AdVZ",
        "outputId": "9861bb20-2109-4751-c87b-6166c4b218c7"
      },
      "execution_count": 25,
      "outputs": [
        {
          "output_type": "stream",
          "name": "stdout",
          "text": [
            "nohtyp\n"
          ]
        }
      ]
    },
    {
      "cell_type": "code",
      "source": [
        "'''15. Write a Python program to calculate the factorial of a number provided by the user using a while loop.'''\n",
        "\n",
        "num = float(input(\"enter a number\"))\n",
        "fraction = num - int(num)\n",
        "print(\"fractional part\", fraction)"
      ],
      "metadata": {
        "colab": {
          "base_uri": "https://localhost:8080/"
        },
        "id": "iox-u1slBMh_",
        "outputId": "79e940c4-0d07-4fa5-8b93-5e02bc888d57"
      },
      "execution_count": 26,
      "outputs": [
        {
          "output_type": "stream",
          "name": "stdout",
          "text": [
            "enter a number18.85\n",
            "fractional part 0.8500000000000014\n"
          ]
        }
      ]
    },
    {
      "cell_type": "code",
      "source": [],
      "metadata": {
        "id": "atTstzL3CKqX"
      },
      "execution_count": null,
      "outputs": []
    }
  ]
}